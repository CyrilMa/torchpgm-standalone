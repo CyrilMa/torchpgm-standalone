{
 "cells": [
  {
   "cell_type": "code",
   "execution_count": 1,
   "id": "12058862-42a6-4ac4-813c-69ec800f0384",
   "metadata": {},
   "outputs": [],
   "source": [
    "from torchpgm.data import *\n",
    "from torchpgm.utils import *\n",
    "from torchpgm.standardize import *\n",
    "\n",
    "from torchpgm.layers import *\n",
    "from torchpgm.subedge import *\n",
    "from torchpgm.edge import *\n",
    "from torchpgm.model import *\n",
    "\n",
    "device = \"cuda\"\n",
    "\n",
    "batch_size = 100 \n",
    "Nh = 50 ## Number of hidden units\n",
    "n_epochs = 40000 ## For training\n",
    "\n",
    "l1b = 2500 ## Strength of l1b regularization\n",
    "l2 = 1000 ## Strength of l2 regularization on visible units bias\n",
    "lr = 0.0001 ## learning rate\n",
    "\n",
    "model_full_name = f\"example\"\n",
    "\n",
    "#standardize_fasta(folder, file)"
   ]
  },
  {
   "cell_type": "markdown",
   "id": "7cecc97c-9623-44ec-a401-7521e58fec5e",
   "metadata": {},
   "source": [
    "## Data"
   ]
  },
  {
   "cell_type": "code",
   "execution_count": 2,
   "id": "bea7b808-0ac5-42e7-8d53-05e88b689f6f",
   "metadata": {},
   "outputs": [],
   "source": [
    "folder = \"data/example\"\n",
    "file = f\"{folder}/test.fasta\""
   ]
  },
  {
   "cell_type": "markdown",
   "id": "f4549cf3-559b-418c-b669-b9173b4a1b87",
   "metadata": {},
   "source": [
    "It's possible to use directly a fasta file as a dataset (mostly with a pretrained model) but not comfortable"
   ]
  },
  {
   "cell_type": "code",
   "execution_count": 3,
   "id": "da42aee4-f2fe-4829-8f5d-abc14aebcfe3",
   "metadata": {},
   "outputs": [],
   "source": [
    "dataset = FastaDataset(file)"
   ]
  },
  {
   "cell_type": "markdown",
   "id": "2dac8d75-87ec-47ae-b5e2-62a4ee315f3c",
   "metadata": {},
   "source": [
    "It's more comfortable to use a standardize data file that can be build directly from a FASTA file. `standardize_fasta` can be used to convert the FASTA file into a One Hot encoded tensor containing all aligned sequences. Once done it will clusterize sequences by identity (MMSEQS is required) and split according to these clusters between training and validation set"
   ]
  },
  {
   "cell_type": "code",
   "execution_count": null,
   "id": "e9e70d55-030d-4ea0-b7ce-4590276214b3",
   "metadata": {},
   "outputs": [],
   "source": [
    "standardize_fasta(folder, file)"
   ]
  },
  {
   "cell_type": "markdown",
   "id": "89f6bfb5-4475-4950-8c83-6713350346d0",
   "metadata": {},
   "source": [
    "Once done you can use and reuse the generated `data.pt` file to load the different sets "
   ]
  },
  {
   "cell_type": "code",
   "execution_count": 5,
   "id": "d8944cc2-d215-46d2-b7a4-1af8712ac44e",
   "metadata": {},
   "outputs": [
    {
     "name": "stdout",
     "output_type": "stream",
     "text": [
      "Available :  x L cluster_index weights subset\n",
      "Available :  x L cluster_index weights subset\n",
      "Available :  x L cluster_index weights subset\n"
     ]
    }
   ],
   "source": [
    "train_dataset = StandardDataset(f\"{folder}/data.pt\", subset = \"train\")\n",
    "train_loader = DataLoader(train_dataset, batch_size = batch_size, shuffle = True)\n",
    "\n",
    "val_dataset = StandardDataset(f\"{folder}/data.pt\", subset = \"val\")\n",
    "val_loader = DataLoader(val_dataset, batch_size = batch_size, shuffle = False)\n",
    "\n",
    "full_set = StandardDataset(f\"{folder}/data.pt\")\n",
    "full_loader = DataLoader(full_set, batch_size = batch_size, shuffle = False)"
   ]
  },
  {
   "cell_type": "markdown",
   "id": "77d24835-c209-45cb-89d9-9f361825cfcf",
   "metadata": {},
   "source": [
    "## Model"
   ]
  },
  {
   "cell_type": "markdown",
   "id": "8740c307-45d9-455b-a10d-357249acad1f",
   "metadata": {},
   "source": [
    "To improve modularity we hierarchically organized the models :\n",
    "- The main class is the Markov Random Field (`torchpgm.model.AbstractMRF`) that organize different operations : Gibbs sampling, probability computation, AIS, training ...\n",
    "- Since the MRF is abstract it must be implemented by a child class, for now only one is available (`torchpgm.model.RBM`)\n",
    "\n",
    "The main class relies on two types of classes :\n",
    "- The layers deriving from `torchpgm.layers.AbstractLayer` in charge of sampling a layer from a potential, storing the bias of the layers, gauges and regularization specific to a layer. Three are available : `torchpgm.layers.OneHotLayer` (for sequences) and `torchpgm.layers.GaussianLayer`, `torchpgm.layers.DReLULayer` for hidden layers.\n",
    "- The edges and subedges deriving from `torchpgm.edge.AbstractEdge` and `torchpgm.subedge.AbstractSubEdge` an edge is for modularity reasons a list of subedges that handle the cross operation between layers mostly : computation of cross term in the energy, update of weights, etc. Three types of edges are availables : the standard one `torchpgm.edge.DenseEdge`, the convolution `torchpgm.edge.ConvolutionalEdge` and the filterbank `torchpgm.edge.FilterbankEdge` (basically a convolution with no shared weights)"
   ]
  },
  {
   "cell_type": "markdown",
   "id": "b0f5a483-5dc3-4e9b-99ca-dbf54ef0c98d",
   "metadata": {},
   "source": [
    "As a starting point we can compute an initial potential for the visible units such like that"
   ]
  },
  {
   "cell_type": "code",
   "execution_count": 8,
   "id": "c63b842e-b70b-4ffa-9ec0-d00d92fb4196",
   "metadata": {},
   "outputs": [],
   "source": [
    "q, N = train_dataset[0][0].size()\n",
    "\n",
    "g = torch.zeros(q, N)\n",
    "for x, _, w, _ in train_dataset:\n",
    "    g += w*x\n",
    "g = np.log(1+g)\n",
    "W = sum(train_dataset.weights)\n",
    "g = (g - g.mean(0)[None]).flatten()/W"
   ]
  },
  {
   "cell_type": "markdown",
   "id": "8d61c3f7-20f3-4e9c-9ea8-d13441f7225b",
   "metadata": {},
   "source": [
    "Then we build the two layers the visible one with random or not random potentials and the hidden one"
   ]
  },
  {
   "cell_type": "code",
   "execution_count": 9,
   "id": "0111a3bb-8970-4a40-95b6-7302a32ce983",
   "metadata": {},
   "outputs": [],
   "source": [
    "v = OneHotLayer(None, N=N, q=q, name=\"v\")\n",
    "v = OneHotLayer(g, N=N, q=q, name=\"v\")\n",
    "h = GaussianLayer(N=Nh, name=\"h\")"
   ]
  },
  {
   "cell_type": "markdown",
   "id": "e85dcce2-f461-4cba-b93f-0a8058cbf3fc",
   "metadata": {},
   "source": [
    "We build the edge also to connect the two"
   ]
  },
  {
   "cell_type": "code",
   "execution_count": 10,
   "id": "09d352bb-a9bd-4c55-a283-ff040789ea50",
   "metadata": {},
   "outputs": [
    {
     "name": "stderr",
     "output_type": "stream",
     "text": [
      "/home/malbranke/torchpgm-standalone/torchpgm/subedge.py:47: UserWarning: nn.init.xavier_uniform is now deprecated in favor of nn.init.xavier_uniform_.\n",
      "  nn.init.xavier_uniform(self.weight)\n"
     ]
    }
   ],
   "source": [
    "edge = DenseEdge(v,h)"
   ]
  },
  {
   "cell_type": "markdown",
   "id": "8a65d414-56e7-43a7-99ea-bde916c2b0b2",
   "metadata": {},
   "source": [
    "And the RBM whch is of the form `RBM(visible, hidden, edge)`"
   ]
  },
  {
   "cell_type": "code",
   "execution_count": 11,
   "id": "7c3c5ea4-43b7-4464-8ed1-0c7b20230156",
   "metadata": {},
   "outputs": [
    {
     "name": "stderr",
     "output_type": "stream",
     "text": [
      "2022-02-28 18:10:38.140324: W tensorflow/stream_executor/platform/default/dso_loader.cc:59] Could not load dynamic library 'libcudart.so.10.1'; dlerror: libcudart.so.10.1: cannot open shared object file: No such file or directory\n",
      "2022-02-28 18:10:38.140355: I tensorflow/stream_executor/cuda/cudart_stub.cc:29] Ignore above cudart dlerror if you do not have a GPU set up on your machine.\n"
     ]
    },
    {
     "data": {
      "image/png": "[encoded data removed]",
      "text/plain": [
       "<Figure size 432x288 with 1 Axes>"
      ]
     },
     "metadata": {},
     "output_type": "display_data"
    }
   ],
   "source": [
    "model_rbm = RBM(v,h,edge,path=folder)"
   ]
  },
  {
   "cell_type": "markdown",
   "id": "0abf086b-2b04-4cf4-90bc-07a0286a1d27",
   "metadata": {},
   "source": [
    "Then for training we need the optimizer. We can put the RBM on GPU and do a first AIS (not working well...)"
   ]
  },
  {
   "cell_type": "code",
   "execution_count": 12,
   "id": "3a1b63b3-49d1-4402-a548-dbcc38772a9a",
   "metadata": {},
   "outputs": [
    {
     "data": {
      "text/plain": [
       "3.0480058193206787"
      ]
     },
     "execution_count": 12,
     "metadata": {},
     "output_type": "execute_result"
    }
   ],
   "source": [
    "optimizer = optim.AdamW(model_rbm.parameters(), lr=lr)\n",
    "model_rbm = model_rbm.to(device)\n",
    "model_rbm.ais()"
   ]
  },
  {
   "cell_type": "markdown",
   "id": "9393c913-a6b2-4441-b323-e8450da3d317",
   "metadata": {},
   "source": [
    "## Training"
   ]
  },
  {
   "cell_type": "markdown",
   "id": "42a47ebb-cd10-4234-a732-bae854cd4c1f",
   "metadata": {},
   "source": [
    "Training is straightforward. Every 30 epochs the model will be save in `folder/weights`, make sure to create this directory before running the model."
   ]
  },
  {
   "cell_type": "code",
   "execution_count": null,
   "id": "647a0e68-53ba-4314-ab2b-807d5cc516fa",
   "metadata": {
    "scrolled": true,
    "tags": []
   },
   "outputs": [],
   "source": [
    "for epoch in range(1, n_epochs):\n",
    "    model_rbm.train_epoch(optimizer, train_loader, train_dataset, \n",
    "                          regularizer = {\"l1b\" : l1b, \"l2\": l2}, \n",
    "                          epoch = epoch, savepath=f\"{folder}/weights/{model_full_name}\")\n",
    "    shuffle(train_dataset.x_m)\n",
    "\n",
    "    if not epoch % 10:\n",
    "        model_rbm.ais()\n",
    "        model_rbm.val(val_loader, epoch)"
   ]
  },
  {
   "cell_type": "markdown",
   "id": "5ec4c10c-25d8-437c-9972-63c2c84977ab",
   "metadata": {
    "tags": []
   },
   "source": [
    "## Validation"
   ]
  },
  {
   "cell_type": "markdown",
   "id": "93a7f390-27c5-4802-b2d0-28362b086c55",
   "metadata": {},
   "source": [
    "Now we load an epoch we liked"
   ]
  },
  {
   "cell_type": "code",
   "execution_count": 14,
   "id": "9d4354b6-32fa-467f-9b47-9ff2d724ade9",
   "metadata": {},
   "outputs": [],
   "source": [
    "best_epoch = 120\n",
    "model_rbm.load(f\"{folder}/weights/{model_full_name}_{best_epoch}.h5\")"
   ]
  },
  {
   "cell_type": "markdown",
   "id": "36ee0937-3d01-46d0-9160-74fed5de44e8",
   "metadata": {},
   "source": [
    "We go into evaluation mode"
   ]
  },
  {
   "cell_type": "code",
   "execution_count": 15,
   "id": "c61373c2-b411-457a-90c2-2bb66b8fd283",
   "metadata": {},
   "outputs": [
    {
     "data": {
      "text/plain": [
       "3.0459482669830322"
      ]
     },
     "execution_count": 15,
     "metadata": {},
     "output_type": "execute_result"
    }
   ],
   "source": [
    "model_rbm.eval()\n",
    "model_rbm.ais()"
   ]
  },
  {
   "cell_type": "markdown",
   "id": "fa28153f-dae2-441f-b410-a9fb28cbfa1f",
   "metadata": {},
   "source": [
    "On training set"
   ]
  },
  {
   "cell_type": "code",
   "execution_count": 16,
   "id": "7db1cd95-0fed-4dd5-a2ff-b25d84cd166f",
   "metadata": {},
   "outputs": [
    {
     "name": "stdout",
     "output_type": "stream",
     "text": [
      "Val Epoch: 0 [100%] || Time: 0 min 4 || P(v): -0.124 || P(v,h): -0.157 || Rec: 0.712\n"
     ]
    }
   ],
   "source": [
    "model_rbm.val(train_loader, 0)"
   ]
  },
  {
   "cell_type": "markdown",
   "id": "27d218c7-87d7-450c-a7d0-e3f96948c5c4",
   "metadata": {},
   "source": [
    "On validation set"
   ]
  },
  {
   "cell_type": "code",
   "execution_count": 17,
   "id": "39628280-4299-47d6-876d-01e4b6dd3d7f",
   "metadata": {},
   "outputs": [
    {
     "name": "stdout",
     "output_type": "stream",
     "text": [
      "Val Epoch: 0 [100%] || Time: 0 min 4 || P(v): -0.349 || P(v,h): -0.383 || Rec: 0.689\n"
     ]
    }
   ],
   "source": [
    "model_rbm.val(val_loader, 0)"
   ]
  }
 ],
 "metadata": {
  "kernelspec": {
   "display_name": "Python 3 (ipykernel)",
   "language": "python",
   "name": "python3"
  },
  "language_info": {
   "codemirror_mode": {
    "name": "ipython",
    "version": 3
   },
   "file_extension": ".py",
   "mimetype": "text/x-python",
   "name": "python",
   "nbconvert_exporter": "python",
   "pygments_lexer": "ipython3",
   "version": "3.8.5"
  }
 },
 "nbformat": 4,
 "nbformat_minor": 5
}
